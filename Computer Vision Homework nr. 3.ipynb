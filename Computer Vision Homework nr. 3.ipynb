{
 "cells": [
  {
   "cell_type": "code",
   "execution_count": 1,
   "id": "informative-allergy",
   "metadata": {},
   "outputs": [],
   "source": [
    "import torch\n",
    "from torch import nn as nn # for NN\n",
    "from torch.utils.data import Dataset # class to create dataset class\n",
    "from torch import optim # Optimizer\n",
    "from torch.nn import functional as F # activation functions\n",
    "import matplotlib.pyplot as plt # to plot a graph\n",
    "import pandas as pd # py data analysis\n",
    "\n",
    "#Choosing devise to be gpu if have one, else cpu\n",
    "DEVICE = torch.device(\"cuda\" if torch.cuda.is_available() else \"cpu\")"
   ]
  },
  {
   "cell_type": "code",
   "execution_count": 2,
   "id": "confirmed-jungle",
   "metadata": {},
   "outputs": [],
   "source": [
    "class DataSet(Dataset):\n",
    "\n",
    "    def __init__(self,path):  \n",
    "        #transformed csv file into tensor\n",
    "        self.dataset = torch.tensor(pd.read_csv(path).values)\n",
    "\n",
    "    def __len__(self):\n",
    "        #return lenght of dataset\n",
    "        return len(self.dataset)\n",
    "\n",
    "    def __getitem__(self, i):\n",
    "        #returns X and Y data by index\n",
    "        return self.dataset[i,:-1], self.dataset[i,-1]  "
   ]
  },
  {
   "cell_type": "code",
   "execution_count": 3,
   "id": "hearing-chase",
   "metadata": {},
   "outputs": [],
   "source": [
    "class Net(nn.Module):\n",
    "\n",
    "    def __init__(self, n_features):\n",
    "        super().__init__()\n",
    "        self.n_features = n_features\n",
    "        \n",
    "        self.fc1 = nn.Linear(self.n_features,16) \n",
    "        self.fc2 = nn.Linear(16,32) \n",
    "        self.fc3 = nn.Linear(32,1)        \n",
    "\n",
    "    def forward(self,x):\n",
    "        out = F.relu(self.fc1(x))\n",
    "        out = F.relu(self.fc2(out))\n",
    "        out = F.sigmoid(self.fc3(out))\n",
    "        \n",
    "        return out"
   ]
  },
  {
   "cell_type": "code",
   "execution_count": 4,
   "id": "banner-kingdom",
   "metadata": {},
   "outputs": [],
   "source": [
    "def training_loop(n_epochs, optimizer, model, loss_fn, train_loader, test_loader, print_plot=True):\n",
    "\n",
    "    train_accuracy = torch.zeros(n_epochs)\n",
    "    test_accuracy = torch.zeros(n_epochs)\n",
    "\n",
    "    for epoch in range(n_epochs):\n",
    "\n",
    "        for example, labels in train_loader:     \n",
    "\n",
    "            example = example.to(DEVICE)\n",
    "            labels = labels.to(DEVICE)\n",
    "\n",
    "            labels  = labels.unsqueeze(1)\n",
    "\n",
    "            output = model(example.float())\n",
    "            loss = loss_fn(output, labels.float())\n",
    "\n",
    "            optimizer.zero_grad()\n",
    "            loss.backward()\n",
    "            optimizer.step()\n",
    "            \n",
    "            \n",
    "        with torch.no_grad():\n",
    "            \n",
    "            for loader, accuracy in [(train_loader, train_accuracy),(test_loader, test_accuracy)]:\n",
    "                correct = 0\n",
    "                total = 0\n",
    "\n",
    "                for examples, labels in loader:\n",
    "                    examples = examples.to(device=DEVICE)\n",
    "                    labels = labels.to(device=DEVICE).view(-1, 1)\n",
    "\n",
    "                    outputs = model(examples.float())\n",
    "                    predicted = torch.round(outputs)\n",
    "\n",
    "                    total += labels.shape[0]\n",
    "                    correct += (predicted == labels).sum()\n",
    "\n",
    "                accuracy[epoch] = correct / total\n",
    "\n",
    "        if (epoch+1) % 10 ==0:\n",
    "            print(f'Epoch {epoch+1})', \n",
    "                  f'Train Accuracy: {train_accuracy[epoch]}',\n",
    "                  f'Test Accuracy: {test_accuracy[epoch]}')\n",
    "\n",
    "    if print_plot:\n",
    "\n",
    "        epochs = range(n_epochs)\n",
    "\n",
    "        plt.plot(epochs, train_accuracy, 'g', label='Training accuracy')\n",
    "        plt.plot(epochs, test_accuracy, 'b', label='Test accuracy')\n",
    "        plt.title('Training and Test loss')\n",
    "        plt.xlabel('Epochs')\n",
    "        plt.ylabel('Loss')\n",
    "        plt.legend()\n",
    "        plt.show()"
   ]
  },
  {
   "cell_type": "code",
   "execution_count": 5,
   "id": "important-preliminary",
   "metadata": {},
   "outputs": [],
   "source": [
    "data = DataSet(r'D:\\Computer Vision Camp\\CVC_CV3\\diabetes.csv')\n",
    "\n",
    "n_sample = len(data)\n",
    "n_test = int(0.2*n_sample)\n",
    "\n",
    "train_set, test_set = torch.utils.data.random_split(data, [n_sample-n_test, n_test])\n",
    "\n",
    "train_loader = torch.utils.data.DataLoader(train_set, batch_size = len(train_set), shuffle = True)\n",
    "test_loader = torch.utils.data.DataLoader(test_set, batch_size = len(test_set), shuffle = True)"
   ]
  },
  {
   "cell_type": "code",
   "execution_count": 6,
   "id": "activated-antenna",
   "metadata": {},
   "outputs": [
    {
     "name": "stderr",
     "output_type": "stream",
     "text": [
      "c:\\users\\simple\\appdata\\local\\programs\\python\\python39\\lib\\site-packages\\torch\\nn\\functional.py:1805: UserWarning: nn.functional.sigmoid is deprecated. Use torch.sigmoid instead.\n",
      "  warnings.warn(\"nn.functional.sigmoid is deprecated. Use torch.sigmoid instead.\")\n"
     ]
    },
    {
     "name": "stdout",
     "output_type": "stream",
     "text": [
      "Epoch 10) Train Accuracy: 0.34959349036216736 Test Accuracy: 0.37254902720451355\n",
      "Epoch 20) Train Accuracy: 0.6585366129875183 Test Accuracy: 0.6339869499206543\n",
      "Epoch 30) Train Accuracy: 0.6731707453727722 Test Accuracy: 0.6143791079521179\n",
      "Epoch 40) Train Accuracy: 0.6764227747917175 Test Accuracy: 0.6601307392120361\n",
      "Epoch 50) Train Accuracy: 0.7170731425285339 Test Accuracy: 0.673202633857727\n",
      "Epoch 60) Train Accuracy: 0.7317073345184326 Test Accuracy: 0.6797385811805725\n",
      "Epoch 70) Train Accuracy: 0.7138211131095886 Test Accuracy: 0.673202633857727\n",
      "Epoch 80) Train Accuracy: 0.7382113933563232 Test Accuracy: 0.673202633857727\n",
      "Epoch 90) Train Accuracy: 0.7349593639373779 Test Accuracy: 0.673202633857727\n",
      "Epoch 100) Train Accuracy: 0.7398374080657959 Test Accuracy: 0.686274528503418\n",
      "Epoch 110) Train Accuracy: 0.7512195110321045 Test Accuracy: 0.6797385811805725\n",
      "Epoch 120) Train Accuracy: 0.7560975551605225 Test Accuracy: 0.6928104758262634\n",
      "Epoch 130) Train Accuracy: 0.7658536434173584 Test Accuracy: 0.686274528503418\n",
      "Epoch 140) Train Accuracy: 0.7756097316741943 Test Accuracy: 0.6993464231491089\n",
      "Epoch 150) Train Accuracy: 0.7739837169647217 Test Accuracy: 0.6993464231491089\n",
      "Epoch 160) Train Accuracy: 0.7804877758026123 Test Accuracy: 0.6928104758262634\n",
      "Epoch 170) Train Accuracy: 0.777235746383667 Test Accuracy: 0.6993464231491089\n",
      "Epoch 180) Train Accuracy: 0.7821138501167297 Test Accuracy: 0.6928104758262634\n",
      "Epoch 190) Train Accuracy: 0.7804877758026123 Test Accuracy: 0.6928104758262634\n",
      "Epoch 200) Train Accuracy: 0.7934959530830383 Test Accuracy: 0.7124183177947998\n",
      "Epoch 210) Train Accuracy: 0.7886179089546204 Test Accuracy: 0.7124183177947998\n",
      "Epoch 220) Train Accuracy: 0.7837398648262024 Test Accuracy: 0.6993464231491089\n",
      "Epoch 230) Train Accuracy: 0.7934959530830383 Test Accuracy: 0.7320261597633362\n",
      "Epoch 240) Train Accuracy: 0.7967479825019836 Test Accuracy: 0.7124183177947998\n",
      "Epoch 250) Train Accuracy: 0.790243923664093 Test Accuracy: 0.7254902124404907\n",
      "Epoch 260) Train Accuracy: 0.7934959530830383 Test Accuracy: 0.7124183177947998\n",
      "Epoch 270) Train Accuracy: 0.7886179089546204 Test Accuracy: 0.7385621070861816\n",
      "Epoch 280) Train Accuracy: 0.8048780560493469 Test Accuracy: 0.7320261597633362\n",
      "Epoch 290) Train Accuracy: 0.795121967792511 Test Accuracy: 0.7254902124404907\n",
      "Epoch 300) Train Accuracy: 0.7756097316741943 Test Accuracy: 0.7450980544090271\n",
      "Epoch 310) Train Accuracy: 0.8048780560493469 Test Accuracy: 0.7385621070861816\n",
      "Epoch 320) Train Accuracy: 0.8065040707588196 Test Accuracy: 0.7385621070861816\n",
      "Epoch 330) Train Accuracy: 0.8081300854682922 Test Accuracy: 0.7320261597633362\n",
      "Epoch 340) Train Accuracy: 0.8097561001777649 Test Accuracy: 0.7320261597633362\n",
      "Epoch 350) Train Accuracy: 0.7918699383735657 Test Accuracy: 0.7320261597633362\n",
      "Epoch 360) Train Accuracy: 0.7918699383735657 Test Accuracy: 0.7058823704719543\n",
      "Epoch 370) Train Accuracy: 0.8081300854682922 Test Accuracy: 0.7320261597633362\n",
      "Epoch 380) Train Accuracy: 0.8016260266304016 Test Accuracy: 0.7189542651176453\n",
      "Epoch 390) Train Accuracy: 0.8195121884346008 Test Accuracy: 0.7124183177947998\n",
      "Epoch 400) Train Accuracy: 0.8130081295967102 Test Accuracy: 0.7254902124404907\n",
      "Epoch 410) Train Accuracy: 0.8130081295967102 Test Accuracy: 0.7320261597633362\n",
      "Epoch 420) Train Accuracy: 0.7967479825019836 Test Accuracy: 0.7450980544090271\n",
      "Epoch 430) Train Accuracy: 0.8016260266304016 Test Accuracy: 0.7320261597633362\n",
      "Epoch 440) Train Accuracy: 0.8130081295967102 Test Accuracy: 0.7516340017318726\n",
      "Epoch 450) Train Accuracy: 0.8243902325630188 Test Accuracy: 0.7385621070861816\n",
      "Epoch 460) Train Accuracy: 0.8260162472724915 Test Accuracy: 0.7189542651176453\n",
      "Epoch 470) Train Accuracy: 0.8211382031440735 Test Accuracy: 0.6993464231491089\n",
      "Epoch 480) Train Accuracy: 0.8260162472724915 Test Accuracy: 0.7254902124404907\n",
      "Epoch 490) Train Accuracy: 0.8211382031440735 Test Accuracy: 0.6993464231491089\n",
      "Epoch 500) Train Accuracy: 0.8276422619819641 Test Accuracy: 0.7385621070861816\n"
     ]
    },
    {
     "data": {
      "image/png": "[encoded data removed]",
      "text/plain": [
       "<Figure size 432x288 with 1 Axes>"
      ]
     },
     "metadata": {
      "needs_background": "light"
     },
     "output_type": "display_data"
    }
   ],
   "source": [
    "learning_rate = 0.01\n",
    "\n",
    "model = Net(len(data[0][0])).to(DEVICE)\n",
    "\n",
    "optimizer = optim.Adam(model.parameters(),lr=learning_rate)\n",
    "\n",
    "loss_fn = nn.BCELoss()\n",
    "\n",
    "training_loop(\n",
    "    n_epochs=500,\n",
    "    optimizer=optimizer,\n",
    "    model = model,\n",
    "    loss_fn = loss_fn,\n",
    "    print_plot=True,\n",
    "    train_loader=train_loader,\n",
    "    test_loader = test_loader\n",
    ")"
   ]
  },
  {
   "cell_type": "code",
   "execution_count": null,
   "id": "cubic-technical",
   "metadata": {},
   "outputs": [],
   "source": []
  }
 ],
 "metadata": {
  "kernelspec": {
   "display_name": "Python 3",
   "language": "python",
   "name": "python3"
  },
  "language_info": {
   "codemirror_mode": {
    "name": "ipython",
    "version": 3
   },
   "file_extension": ".py",
   "mimetype": "text/x-python",
   "name": "python",
   "nbconvert_exporter": "python",
   "pygments_lexer": "ipython3",
   "version": "3.9.1"
  }
 },
 "nbformat": 4,
 "nbformat_minor": 5
}
