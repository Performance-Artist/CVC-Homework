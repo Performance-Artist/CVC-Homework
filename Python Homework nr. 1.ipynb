{
 "cells": [
  {
   "cell_type": "code",
   "execution_count": 1,
   "id": "aging-breast",
   "metadata": {},
   "outputs": [],
   "source": [
    "#TASK 1: Days in month"
   ]
  },
  {
   "cell_type": "code",
   "execution_count": 2,
   "id": "tight-publicity",
   "metadata": {},
   "outputs": [],
   "source": [
    "# Given a number x, which represent the order number of a month (for example\n",
    "# january - 1, february - 2, december - 12). Given month, print the number of days\n",
    "# in this month (take a not leap year)."
   ]
  },
  {
   "cell_type": "code",
   "execution_count": 3,
   "id": "satellite-prairie",
   "metadata": {},
   "outputs": [],
   "source": [
    "# Example:\n",
    "#     Input: 1\n",
    "#     Output: 31"
   ]
  },
  {
   "cell_type": "code",
   "execution_count": 15,
   "id": "drawn-george",
   "metadata": {},
   "outputs": [
    {
     "name": "stdout",
     "output_type": "stream",
     "text": [
      "Input: 5\n",
      "Output: 31\n"
     ]
    }
   ],
   "source": [
    "month = int(input(\"Enter the month: \"))\n",
    "if month == 1:\n",
    "    print(\"Output: 31\")\n",
    "elif month == 2:\n",
    "    print(\"Output: 28\")\n",
    "elif month == 3:\n",
    "    print(\"Output: 31\")\n",
    "elif month == 4:\n",
    "    print(\"Output: 30\")\n",
    "elif month == 5:\n",
    "    print(\"Output: 31\")\n",
    "elif month == 6:\n",
    "    print(\"Output: 30\")\n",
    "elif month == 7:\n",
    "    print(\"Output: 31\")\n",
    "elif month == 8:\n",
    "    print(\"Output: 31\")\n",
    "elif month == 9:\n",
    "    print(\"Output: 30\")\n",
    "elif month == 10:\n",
    "    print(\"Output: 31\")\n",
    "elif month == 11:\n",
    "    print(\"Output: 30\")\n",
    "elif month == 12:\n",
    "    print(\"Output: 31\")\n",
    "else: print(\"Write the number of month between 1 and 12\")"
   ]
  },
  {
   "cell_type": "code",
   "execution_count": null,
   "id": "lonely-system",
   "metadata": {},
   "outputs": [],
   "source": [
    "# Second version of the exercise from above, beside the number of the month, you\n",
    "# will be given a number that represent the year, and now you have to print the\n",
    "# number of days in this month given the month and the year too."
   ]
  },
  {
   "cell_type": "code",
   "execution_count": null,
   "id": "retired-taxation",
   "metadata": {},
   "outputs": [],
   "source": [
    "# Example:\n",
    "# Input:\n",
    "#     2020\n",
    "#     2\n",
    "# Output:\n",
    "#     29"
   ]
  },
  {
   "cell_type": "code",
   "execution_count": 18,
   "id": "collective-russia",
   "metadata": {},
   "outputs": [
    {
     "name": "stdout",
     "output_type": "stream",
     "text": [
      "Enter the year: 2020\n",
      "Enter the month: 2\n",
      "Output: 29\n"
     ]
    }
   ],
   "source": [
    "year = int(input(\"Enter the year: \"))\n",
    "month = int(input(\"Enter the month: \"))\n",
    "if month == 1:\n",
    "    print(\"Output: 31\")\n",
    "elif month == 2:\n",
    "    if year % 4 == 0:\n",
    "        print(\"Output: 29\")\n",
    "    else:\n",
    "        print(\"Output: 28\")\n",
    "elif month == 3:\n",
    "    print(\"Output: 31\")\n",
    "elif month == 4:\n",
    "    print(\"Output: 30\")\n",
    "elif month == 5:\n",
    "    print(\"Output: 31\")\n",
    "elif month == 6:\n",
    "    print(\"Output: 30\")\n",
    "elif month == 7:\n",
    "    print(\"Output: 31\")\n",
    "elif month == 8:\n",
    "    print(\"Output: 31\")\n",
    "elif month == 9:\n",
    "    print(\"Output: 30\")\n",
    "elif month == 10:\n",
    "    print(\"Output: 31\")\n",
    "elif month == 11:\n",
    "    print(\"Output: 30\")\n",
    "elif month == 12:\n",
    "    print(\"Output: 31\")\n",
    "else: print(\"Write the number of month between 1 and 12\")"
   ]
  },
  {
   "cell_type": "code",
   "execution_count": null,
   "id": "friendly-father",
   "metadata": {},
   "outputs": [],
   "source": []
  }
 ],
 "metadata": {
  "kernelspec": {
   "display_name": "Python 3",
   "language": "python",
   "name": "python3"
  },
  "language_info": {
   "codemirror_mode": {
    "name": "ipython",
    "version": 3
   },
   "file_extension": ".py",
   "mimetype": "text/x-python",
   "name": "python",
   "nbconvert_exporter": "python",
   "pygments_lexer": "ipython3",
   "version": "3.9.1"
  }
 },
 "nbformat": 4,
 "nbformat_minor": 5
}
